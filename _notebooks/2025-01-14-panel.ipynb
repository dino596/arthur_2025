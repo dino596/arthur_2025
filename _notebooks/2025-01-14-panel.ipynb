{
 "cells": [
  {
   "cell_type": "markdown",
   "metadata": {},
   "source": [
    "---\n",
    "layout: post\n",
    "title: Panel Discussion\n",
    "type: issues \n",
    "comments: true\n",
    "permalink: /panel\n",
    "---"
   ]
  },
  {
   "cell_type": "markdown",
   "metadata": {},
   "source": [
    "A student panel was held on January 8th, featuring Vivian, Michael, David, and Edwin. I went to the panel with Nikhil, and we were very excited to see the speakers talk about CS, especially Edwin :). We immediately sat in the very front to make sure that we caught what they were saying and could see the questions well, despite the large amount of people in the classroom at that time.\n",
    "\n",
    "Here are some quick notes I managed to jot down during the panel:\n",
    "- dont make a summary\n",
    "- in college code is graded by the TAs based on explanation\n",
    "- big project at the end is an explanation of your code line by line to the professor\n",
    "- similar to the live reviews in CSA\n",
    "- focusing on building skills rather than the end results\n",
    "- explanation of outlining and brainstorming the features\n",
    "- clear communication! clear and direct\n",
    "- applying to clubs have interviews “tell me about yourself”\n",
    "- practice documentation of issues, agile methodology\n",
    "- flowcharts could be required in college even before starting to program\n",
    "- comments in code are very important\n",
    "- make good connections in clubs and internships\n",
    "- could lead to referrals in the future\n",
    "- gitbooks for managing people and information\n",
    "\n",
    "Being a senior and applying to colleges already as a CS major, much of this information was essential, since I would most likely be in the same spot as them right now. It was also very interesting to hear how CSA greatly impacted their lives now, and I agree that many things I have learned in CSP and CSA, such as Git and Markdown, would be hard to learn elsewhere.\n",
    "\n",
    "This is a picture of Nikhil and Matthew and I at the panel!\n",
    "[![image.png](https://i.postimg.cc/XqLbLGW2/image.png)](https://postimg.cc/vx4kHmc9)\n"
   ]
  }
 ],
 "metadata": {
  "language_info": {
   "name": "python"
  }
 },
 "nbformat": 4,
 "nbformat_minor": 2
}
