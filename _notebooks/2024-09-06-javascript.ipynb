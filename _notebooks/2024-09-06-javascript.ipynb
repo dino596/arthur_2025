{
 "cells": [
  {
   "cell_type": "markdown",
   "metadata": {},
   "source": [
    "---\n",
    "layout: post\n",
    "title: Javascript Cell\n",
    "description:  Running Javascript on Jupyter Notebooks\n",
    "type: issues \n",
    "permalink: /about/javascript\n",
    "comments: true\n",
    "---"
   ]
  },
  {
   "cell_type": "markdown",
   "metadata": {},
   "source": [
    "<script>\n",
    "    for (let i = 0; i <= 10; i++) {\n",
    "        console.log(i);\n",
    "    }\n",
    "\n",
    "    console.log(\"Today's date: \" + new Date().toLocaleDateString());\n",
    "</script>    "
   ]
  }
 ],
 "metadata": {
  "language_info": {
   "name": "python"
  }
 },
 "nbformat": 4,
 "nbformat_minor": 2
}
