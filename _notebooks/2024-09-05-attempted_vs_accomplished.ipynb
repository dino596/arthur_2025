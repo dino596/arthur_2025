{
 "cells": [
  {
   "cell_type": "markdown",
   "metadata": {},
   "source": [
    "---\n",
    "layout: post\n",
    "title: Attempted vs Accomplished\n",
    "description:  Attempted and Accomplished\n",
    "type: issues \n",
    "permalink: /about/attempted_accomplished\n",
    "comments: true\n",
    "---"
   ]
  }
 ],
 "metadata": {
  "language_info": {
   "name": "python"
  }
 },
 "nbformat": 4,
 "nbformat_minor": 2
}
