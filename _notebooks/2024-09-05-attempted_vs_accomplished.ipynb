{
 "cells": [
  {
   "cell_type": "markdown",
   "metadata": {},
   "source": [
    "---\n",
    "layout: post\n",
    "title: Attempted vs Accomplished\n",
    "description:  Attempted and Accomplished\n",
    "type: issues \n",
    "permalink: /about/attempted_accomplished\n",
    "comments: true\n",
    "---"
   ]
  },
  {
   "cell_type": "markdown",
   "metadata": {},
   "source": [
    "Accomplished\n",
    "I successfully made a python program to change all instances of the word monkey into the monkey emoji from the hit wikipeida article Monkeys.\n",
    "Modified my index.md page\n",
    "changed sass of my site\n",
    "Accomplished sprint 1 hacks\n",
    "Attempted\n",
    "I tried to grab articles from cnn, and replace every word with a random emoji\n",
    "I attempted to install ditto"
   ]
  }
 ],
 "metadata": {
  "language_info": {
   "name": "python"
  }
 },
 "nbformat": 4,
 "nbformat_minor": 2
}
