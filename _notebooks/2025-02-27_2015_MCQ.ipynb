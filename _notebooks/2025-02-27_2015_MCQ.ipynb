{
 "cells": [
  {
   "cell_type": "markdown",
   "metadata": {},
   "source": [
    "---\n",
    "layout: post\n",
    "title: 2015 MCQ\n",
    "type: issues \n",
    "comments: true\n",
    "permalink: /mcq\n",
    "---"
   ]
  },
  {
   "cell_type": "markdown",
   "metadata": {},
   "source": [
    "### 2015 College Board MCQ Corrections\n",
    "\n",
    "<br>\n",
    "I got a 35/39 on the MCQ, spending a total of 4 hrs, 16 min, and 37 sec. <br><br>\n",
    "Q10. Student interface, Athlete and TennisPlayer Class<br>\n",
    "Consider the following interface and class declarations.<br>\n",
    "[![image.png](https://i.postimg.cc/9fyP4z2N/image.png)](https://postimg.cc/McKfN6vy)<br>\n",
    "\n"
   ]
  }
 ],
 "metadata": {
  "language_info": {
   "name": "python"
  }
 },
 "nbformat": 4,
 "nbformat_minor": 2
}
