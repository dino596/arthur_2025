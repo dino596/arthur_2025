{
 "cells": [
  {
   "cell_type": "markdown",
   "metadata": {},
   "source": [
    "---\n",
    "layout: post\n",
    "title: Classes FRQ\n",
    "type: issues \n",
    "comments: true\n",
    "permalink: /frq/classes\n",
    "---"
   ]
  },
  {
   "cell_type": "code",
   "execution_count": 1,
   "metadata": {},
   "outputs": [],
   "source": [
    "public class Cat {\n",
    "    // instance variable sound\n",
    "    private String sound;\n",
    "\n",
    "    /**\n",
    "     * constructor with noise input for sound\n",
    "     *\n",
    "     * @param noise sound\n",
    "     */\n",
    "    public Cat(String noise) {\n",
    "        sound = noise;\n",
    "    }\n",
    "\n",
    "    /**\n",
    "     * returns sound in all lowercase\n",
    "     *\n",
    "     * @return lowercase sound\n",
    "     */\n",
    "    public String makeQuietNoise() {\n",
    "        return sound.toLowerCase(); // using toLowerCase() to convert String to lowercase\n",
    "    }\n",
    "\n",
    "    /**\n",
    "     * returns sound in reverse\n",
    "     *\n",
    "     * @return reverse sound\n",
    "     */\n",
    "    public String makeReverseNoise() {\n",
    "        return new StringBuilder(sound).reverse().toString(); // using StringBuilder class to reverse the String, then covert it back to String with toString()\n",
    "    }\n",
    "}\n"
   ]
  },
  {
   "cell_type": "code",
   "execution_count": 2,
   "metadata": {},
   "outputs": [],
   "source": [
    "public interface StudyPractice {\n",
    "    /**\n",
    "     * returns the current practice problem\n",
    "     */\n",
    "    String getProblem();\n",
    "\n",
    "    /**\n",
    "     * changes to the next practice problem\n",
    "     */\n",
    "    void nextProblem();\n",
    "}\n"
   ]
  },
  {
   "cell_type": "code",
   "execution_count": null,
   "metadata": {},
   "outputs": [],
   "source": [
    "public class MultPractice implements StudyPractice {\n",
    "    // instance variables for the two integers c1 and c2\n",
    "    private int c1, c2;\n",
    "\n",
    "    /**\n",
    "     * constructor that initializes c1 and c2\n",
    "     *\n",
    "     * @param c1 first integer\n",
    "     * @param c2 second integer\n",
    "     */\n",
    "    public MultPractice(int c1, int c2) {\n",
    "        this.c1 = c1;\n",
    "        this.c2 = c2;\n",
    "    }\n",
    "\n",
    "    /**\n",
    "     * prints out the problem, similar to a toString function\n",
    "     *\n",
    "     * @return c1 TIMES c2\n",
    "     */\n",
    "    public String getProblem() {\n",
    "        return c1 + \" TIMES \" + c2; // String concatenation\n",
    "    }\n",
    "\n",
    "    /**\n",
    "     * updates to the next problem\n",
    "     */\n",
    "    public void nextProblem() {\n",
    "        c2++; // adds one to c2 to produce next problem\n",
    "    }\n",
    "}\n"
   ]
  }
 ],
 "metadata": {
  "kernelspec": {
   "display_name": "Java",
   "language": "java",
   "name": "java"
  },
  "language_info": {
   "codemirror_mode": "java",
   "file_extension": ".jshell",
   "mimetype": "text/x-java-source",
   "name": "java",
   "pygments_lexer": "java",
   "version": "17.0.13+11-Ubuntu-2ubuntu122.04"
  }
 },
 "nbformat": 4,
 "nbformat_minor": 2
}
