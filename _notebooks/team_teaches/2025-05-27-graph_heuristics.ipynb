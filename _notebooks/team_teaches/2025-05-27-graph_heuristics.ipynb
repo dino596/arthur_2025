{
 "cells": [
  {
   "cell_type": "markdown",
   "id": "42d9ce93",
   "metadata": {},
   "source": [
    "---\n",
    "layout: post\n",
    "title: Graph Heuristics\n",
    "type: issues \n",
    "comments: true\n",
    "permalink: /frq/graph\n",
    "---"
   ]
  },
  {
   "cell_type": "markdown",
   "id": "26c04a7c",
   "metadata": {},
   "source": [
    "| Step | Node Chosen | Neighbor | g(n) | h(n) | f(n)           |\n",
    "| ---- | ----------- | -------- | ---- | ---- | -------------- |\n",
    "| 1    | A           | B        | 2    | 4    | 6              |\n",
    "|      |             | C        | 4    | 2    | 6              |\n",
    "| 2    | B           | C        | 5    | 2    | 7 (ignored)    |\n",
    "|      |             | D        | 7    | 0    | 7              |\n",
    "| 3    | C           | D        | 5    | 0    | **5** (update) |\n",
    "| 4    | D           | –        | –    | –    | –              |\n",
    "\n",
    "1. B\n",
    "2. B\n",
    "3. B\n",
    "4. B"
   ]
  }
 ],
 "metadata": {
  "language_info": {
   "name": "python"
  }
 },
 "nbformat": 4,
 "nbformat_minor": 5
}
