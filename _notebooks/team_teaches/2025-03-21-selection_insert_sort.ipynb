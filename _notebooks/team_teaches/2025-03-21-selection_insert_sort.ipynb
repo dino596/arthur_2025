{
 "cells": [
  {
   "cell_type": "markdown",
   "metadata": {},
   "source": [
    "---\n",
    "layout: post\n",
    "title: Sorting Pt 1.\n",
    "type: issues \n",
    "comments: true\n",
    "permalink: /frq/sorting1\n",
    "---"
   ]
  },
  {
   "cell_type": "markdown",
   "metadata": {},
   "source": [
    "Insertion Sort: [42, 17, 29, 8, 35]<br><br>\n",
    "[42, 17, 29, 8, 35] initial array, compare 42 and 17<br>\n",
    "[42, 42, 29, 8, 35] slide 42 to the right<br>\n",
    "[17, 42, 29, 8, 35] insert 17 to the left of 42, compare 42 with 29<br>\n",
    "[17, 42, 42, 8, 35] slide 42 to the right, compare 17 with 29<br>\n",
    "[17, 29, 42, 8, 35] insert 29 to the left of 42, compare 42 with 8<br>\n",
    "[17, 29, 42, 42, 35] slide 42 to the right, compare 29 with 8<br>\n",
    "[17, 29, 29, 42, 35] slide 29 to the right, compare 17 with 8<br>\n",
    "[17, 17, 29, 42, 35] slide 17 to the right<br>\n",
    "[8, 17, 29, 42, 35] insert 8 to the left of 17, compare 42 with 35<br>\n",
    "[8, 17, 29, 42, 42] slide 42 to the right, compare 29 with 35<br>\n",
    "[8, 17, 29, 35, 42] insert 35 to the left of 42, final array<br><br>\n",
    "8 comparisons, 4 insertions<br><br>\n",
    "best case time complexity of insertion sort: O(n)<br>\n",
    "worst case time complexity of insertion sort: O(n^2)\n"
   ]
  }
 ],
 "metadata": {
  "language_info": {
   "name": "python"
  }
 },
 "nbformat": 4,
 "nbformat_minor": 2
}
