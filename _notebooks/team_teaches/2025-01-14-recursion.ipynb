{
 "cells": [
  {
   "cell_type": "markdown",
   "metadata": {},
   "source": [
    "---\n",
    "layout: post\n",
    "title: Recursion FRQ\n",
    "type: issues \n",
    "comments: true\n",
    "permalink: /frq/recursion\n",
    "---"
   ]
  },
  {
   "cell_type": "code",
   "execution_count": null,
   "metadata": {
    "vscode": {
     "languageId": "java"
    }
   },
   "outputs": [],
   "source": [
    "public class PopcornHack1 {\n",
    "    // 5! = 5 * 4! = 5 * (5 – 1)!\n",
    "    // 4! = 4 * 3! = 4 * (4 – 1)!\n",
    "    // ...\n",
    "    // 1! = 1\n",
    "\n",
    "    /**\n",
    "     * simple recursive method for finding factorial\n",
    "     *\n",
    "     * @param target factorial target\n",
    "     * @return factorial value\n",
    "     */\n",
    "    public static int factorial(int target) {\n",
    "        if (target == 0) { // base case: if target is 0, return 1\n",
    "            return 1;\n",
    "        } else {\n",
    "            return target * factorial(--target); // recurse the product of target with the factorial of the target - 1\n",
    "        }\n",
    "    }\n",
    "\n",
    "    // unit tester\n",
    "    public static void main(String[] args) {\n",
    "        System.out.println(factorial(5));\n",
    "    }\n",
    "}\n"
   ]
  },
  {
   "cell_type": "code",
   "execution_count": null,
   "metadata": {
    "vscode": {
     "languageId": "java"
    }
   },
   "outputs": [],
   "source": [
    "public class PopcornHack2 {\n",
    "    // Pro-tip: Think of why the index is stored as a parameter\n",
    "    // What are parameters usually used as?\n",
    "\n",
    "    /**\n",
    "     * adds the sum of the array from a given index to the end\n",
    "     *\n",
    "     * @param arr the given array to be added\n",
    "     * @param index starting index\n",
    "     * @return total sum\n",
    "     */\n",
    "    public static int sumArray(int[] arr, int index) {\n",
    "        if (index == arr.length) { // prevent out-of-bound errors\n",
    "            return 0;\n",
    "        }\n",
    "\n",
    "        return arr[index] + sumArray(arr, ++index); // return recursive function of sum of array with index + 1\n",
    "    }\n",
    "\n",
    "    // unit tester\n",
    "    public static void main(String[] args) {\n",
    "        int[] arr = {5, 3, 6};\n",
    "\n",
    "        System.out.println(sumArray(arr, 1));\n",
    "    }\n",
    "}\n"
   ]
  },
  {
   "cell_type": "code",
   "execution_count": null,
   "metadata": {
    "vscode": {
     "languageId": "java"
    }
   },
   "outputs": [],
   "source": [
    "import java.util.ArrayList;\n",
    "import java.util.Arrays;\n",
    "import java.util.Collections;\n",
    "\n",
    "public class PopcornHack3 {\n",
    "    // Pro-tip: Set max to the first element\n",
    "\n",
    "    public static int[] sumArray(int[] arr, int index, int max) {\n",
    "        if (index >= arr.length - 1) {\n",
    "            return arr;\n",
    "        }\n",
    "\n",
    "        int minIndex = index;\n",
    "        for (int i = index + 1; i < arr.length; i++) {\n",
    "            if (arr[i] < arr[minIndex]) {\n",
    "                minIndex = i;\n",
    "            }\n",
    "        }\n",
    "\n",
    "        int temp = arr[index];\n",
    "        arr[index] = arr[minIndex];\n",
    "        arr[minIndex] = temp;\n",
    "\n",
    "        return sumArray(arr, index + 1, max);\n",
    "    }\n",
    "}\n"
   ]
  },
  {
   "cell_type": "code",
   "execution_count": null,
   "metadata": {
    "vscode": {
     "languageId": "java"
    }
   },
   "outputs": [],
   "source": [
    "public class PopcornHack4 {\n",
    "    // Pro tip: Remember what we learned from the 1D Array Popcorn Hack\n",
    "\n",
    "    public static int[][] sumArray(int[][] arr, int x_index, int y_index) {\n",
    "        int rows = arr.length;\n",
    "        int cols = arr[0].length;\n",
    "\n",
    "        // Base case: if the entire 2D array has been traversed, return the array\n",
    "        if (x_index >= rows || (x_index == rows - 1 && y_index >= cols)) {\n",
    "            return arr;\n",
    "        }\n",
    "\n",
    "        // Find the minimum element in the remaining part of the array\n",
    "        int minX = x_index, minY = y_index;\n",
    "\n",
    "        for (int i = x_index; i < rows; i++) {\n",
    "            for (int j = (i == x_index ? y_index : 0); j < cols; j++) {\n",
    "                if (arr[i][j] < arr[minX][minY]) {\n",
    "                    minX = i;\n",
    "                    minY = j;\n",
    "                }\n",
    "            }\n",
    "        }\n",
    "\n",
    "        // Swap the current element with the minimum element found\n",
    "        int temp = arr[x_index][y_index];\n",
    "        arr[x_index][y_index] = arr[minX][minY];\n",
    "        arr[minX][minY] = temp;\n",
    "\n",
    "        // Move to the next element\n",
    "        if (y_index + 1 < cols) {\n",
    "            return sumArray(arr, x_index, y_index + 1); // Move to the next column\n",
    "        } else {\n",
    "            return sumArray(arr, x_index + 1, 0); // Move to the next row\n",
    "        }\n",
    "    }\n",
    "\n",
    "}\n"
   ]
  }
 ],
 "metadata": {
  "language_info": {
   "name": "python"
  }
 },
 "nbformat": 4,
 "nbformat_minor": 2
}
