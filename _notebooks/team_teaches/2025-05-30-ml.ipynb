{
 "cells": [
  {
   "cell_type": "markdown",
   "id": "dcb8cd7a",
   "metadata": {},
   "source": [
    "---\n",
    "layout: post\n",
    "title: ML\n",
    "type: issues \n",
    "comments: true\n",
    "permalink: /frq/ml\n",
    "---"
   ]
  },
  {
   "cell_type": "markdown",
   "id": "d87f2d12",
   "metadata": {},
   "source": [
    "| Similarities           | Java                              | Python                         |\n",
    "| ---------------------- | --------------------------------- | ------------------------------ |\n",
    "| Load CSV               | `Table.read().csv()`              | `pd.read_csv()`                |\n",
    "| Fill missing           | `setMissingTo(median)`            | `fillna(median)`               |\n",
    "| Drop columns           | `removeColumns(...)`              | `drop(columns=...)`            |\n",
    "| Encode categories      | `replaceAll(...)`                 | `map({...})`                   |\n",
    "| Normalize              | `normalize()`                     | `(val - min) / (max - min)`    |\n",
    "| Convert to model input | `Instances`, `DenseInstance(...)` | `DataFrame → array → model`    |\n",
    "| Train model            | `J48`, `Logistic`, `CV`           | `DecisionTree`, `LogReg`, `CV` |\n"
   ]
  },
  {
   "cell_type": "code",
   "execution_count": null,
   "id": "46695853",
   "metadata": {
    "vscode": {
     "languageId": "java"
    }
   },
   "outputs": [],
   "source": [
    "public void addNode() {\n",
    "    adjacencyList.add(new LinkedList<>());\n",
    "    nodes++;\n",
    "    System.out.println(\"Node \" + (nodes - 1) + \" added.\");\n",
    "}\n",
    "\n",
    "public void removeEdge(int source, int destination) {\n",
    "    if (source < nodes && destination < nodes) {\n",
    "        if (adjacencyList.get(source).remove(Integer.valueOf(destination))) {\n",
    "            System.out.println(\"Edge from \" + source + \" to \" + destination + \" removed.\");\n",
    "        } else {\n",
    "            System.out.println(\"Edge from \" + source + \" to \" + destination + \" does not exist.\");\n",
    "        }\n",
    "    } else {\n",
    "        System.out.println(\"Invalid node index.\");\n",
    "    }\n",
    "}"
   ]
  }
 ],
 "metadata": {
  "language_info": {
   "name": "python"
  }
 },
 "nbformat": 4,
 "nbformat_minor": 5
}
