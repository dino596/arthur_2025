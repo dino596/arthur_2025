{
 "cells": [
  {
   "cell_type": "markdown",
   "metadata": {
    "vscode": {
     "languageId": "java"
    }
   },
   "source": [
    "---\n",
    "layout: post\n",
    "title: Methods and Control FRQ\n",
    "type: issues \n",
    "comments: true\n",
    "permalink: /frq/methods_and_control\n",
    "---"
   ]
  },
  {
   "cell_type": "code",
   "execution_count": 2,
   "metadata": {
    "vscode": {
     "languageId": "java"
    }
   },
   "outputs": [
    {
     "name": "stdout",
     "output_type": "stream",
     "text": [
      "true\n",
      "false\n",
      "true\n"
     ]
    }
   ],
   "source": [
    "/**\n",
    " * solveMaze method finds whether a route to the exit\n",
    " * from startX, startY to E labeled in the maze\n",
    " *\n",
    " * @param maze   maze\n",
    " * @param startX starting x coordinate\n",
    " * @param startY starting y coordinate\n",
    " * @return true if there is a path to the exit\n",
    " */\n",
    "public static boolean solveMaze(char[][] maze, int startX, int startY) {\n",
    "\n",
    "    if (maze[startX][startY] == 'E') { // checks if current location is the exit\n",
    "        return true; // exit path exists\n",
    "    }\n",
    "\n",
    "    maze[startX][startY] = '#'; // mark the current square to avoid revisiting\n",
    "    if (startX != 0) { // checks for off-bound errors\n",
    "        if (maze[startX - 1][startY] != '#') { // checks if there is a wall\n",
    "            return solveMaze(maze, startX - 1, startY); // recurse with that coordinate\n",
    "        }\n",
    "    }\n",
    "    if (startX != maze.length - 1) { // checks for off-bound errors\n",
    "        if (maze[startX + 1][startY] != '#') { // checks if there is a wall\n",
    "            return solveMaze(maze, startX + 1, startY); // recurse with that coordinate\n",
    "        }\n",
    "    }\n",
    "    if (startY != maze[0].length - 1) { // checks for off-bound errors\n",
    "        if (maze[startX][startY + 1] != '#') {\n",
    "            return solveMaze(maze, startX, startY + 1); // recurse with that coordinate\n",
    "        }\n",
    "    }\n",
    "    if (startY != 0) { // checks for off-bound errors\n",
    "        if (maze[startX][startY - 1] != '#') { // checks if there is a wall\n",
    "            return solveMaze(maze, startX, startY - 1); // recurse with that coordinate\n",
    "        }\n",
    "    }\n",
    "\n",
    "    return false; // return false if on available path\n",
    "}\n",
    "\n",
    "// test case 1\n",
    "char[][] maze1 = {\n",
    "        {'#', '#', '#', '#', '#'},\n",
    "        {'#', ' ', ' ', '#', 'E'},\n",
    "        {'#', ' ', '#', ' ', '#'},\n",
    "        {'#', ' ', ' ', ' ', '#'},\n",
    "        {'#', '#', '#', '#', '#'}\n",
    "};\n",
    "\n",
    "char[][] maze2 = {\n",
    "        {'#', '#', '#', '#', '#'},\n",
    "        {'#', ' ', '#', '#', 'E'},\n",
    "        {'#', ' ', '#', '#', '#'},\n",
    "        {'#', ' ', ' ', ' ', '#'},\n",
    "        {'#', '#', '#', '#', '#'}\n",
    "};\n",
    "\n",
    "char[][] maze3 = {\n",
    "        {'#', '#', '#', '#', '#'},\n",
    "        {'#', ' ', ' ', ' ', 'E'},\n",
    "        {'#', ' ', '#', ' ', '#'},\n",
    "        {'#', ' ', ' ', ' ', '#'},\n",
    "        {'#', '#', '#', '#', '#'}\n",
    "};\n",
    "\n",
    "\n",
    "System.out.println(solveMaze(maze1, 1, 4)); // Output: true\n",
    "System.out.println(solveMaze(maze2, 3, 1)); // Output: false\n",
    "System.out.println(solveMaze(maze3, 1, 1)); // Output: true\n"
   ]
  }
 ],
 "metadata": {
  "kernelspec": {
   "display_name": "Java",
   "language": "java",
   "name": "java"
  },
  "language_info": {
   "codemirror_mode": "java",
   "file_extension": ".jshell",
   "mimetype": "text/x-java-source",
   "name": "Java",
   "pygments_lexer": "java",
   "version": "17.0.13+11-Ubuntu-2ubuntu122.04"
  }
 },
 "nbformat": 4,
 "nbformat_minor": 2
}
