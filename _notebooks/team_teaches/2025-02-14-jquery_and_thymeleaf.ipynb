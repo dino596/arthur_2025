{
 "cells": [
  {
   "cell_type": "markdown",
   "metadata": {},
   "source": [
    "---\n",
    "layout: post\n",
    "title: jQuery and Thymeleaf\n",
    "type: issues \n",
    "comments: true\n",
    "permalink: /frq/jquery_and_thymeleaf\n",
    "---"
   ]
  },
  {
   "cell_type": "code",
   "execution_count": null,
   "metadata": {
    "vscode": {
     "languageId": "javascript"
    }
   },
   "outputs": [],
   "source": [
    "$(document).ready(function(){     // \n",
    "    $(\"button\").click(function(){ //\n",
    "      $(\"p\").hide();              // HERE\n",
    "    });                           //\n",
    "  });                             //"
   ]
  },
  {
   "cell_type": "code",
   "execution_count": null,
   "metadata": {
    "vscode": {
     "languageId": "html"
    }
   },
   "outputs": [],
   "source": [
    "<p id=\"text\">text</p>\n",
    "\n",
    "<button type=\"button\" id=\"button\">button</button>\n",
    "\n",
    "<script src=\"https://code.jquery.com/jquery-3.7.1.min.js\"></script>\n",
    "<script>\n",
    "    $(document).ready(function() {\n",
    "        $('#button').click(function() {\n",
    "            $('#text').text(\"new text\");\n",
    "        });\n",
    "    });\n",
    "</script>"
   ]
  },
  {
   "cell_type": "code",
   "execution_count": null,
   "metadata": {
    "vscode": {
     "languageId": "html"
    }
   },
   "outputs": [],
   "source": [
    "\n",
    "<html xmlns:th=\"http://www.thymeleaf.org\">\n",
    "<table>\n",
    "    <tr>\n",
    "        <th>name</th>\n",
    "        <th>grade</th>\n",
    "        <th>status</th>\n",
    "    </tr>\n",
    "    <tr th:each=\"student : ${students}\">\n",
    "        <td th:text=\"${student.name}\"></td>\n",
    "        <td th:text=\"${student.grade}\"></td>\n",
    "        <td \n",
    "            th:text=\"${student.status} ? 'Passed' : 'Failed'\"\n",
    "            th:style=\"${student.status} ? 'color: green;' : 'color: red;'\"\n",
    "        ></td>\n",
    "    </tr>\n",
    "</table>"
   ]
  },
  {
   "cell_type": "markdown",
   "metadata": {},
   "source": [
    "pros of thymeleaf: dynamic, secure, easy to maintain, and easier conditional logic with th:if\n",
    "<br>cons of thymeleaf: it requires a backend such as Spring, and not very scalable, so it would be very inefficient and slow at large sizes"
   ]
  },
  {
   "cell_type": "markdown",
   "metadata": {},
   "source": []
  }
 ],
 "metadata": {
  "language_info": {
   "name": "python"
  }
 },
 "nbformat": 4,
 "nbformat_minor": 2
}
