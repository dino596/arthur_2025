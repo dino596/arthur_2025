{
 "cells": [
  {
   "cell_type": "markdown",
   "metadata": {},
   "source": [
    "---\n",
    "layout: post\n",
    "title: About Me\n",
    "description:  About Page\n",
    "type: issues \n",
    "permalink: /about\n",
    "comments: true\n",
    "---"
   ]
  },
  {
   "cell_type": "markdown",
   "metadata": {},
   "source": [
    "I am a senior at Del Norte High School.\n",
    "\n",
    "Born in Taiwan in 2007, I immigrated to the United States when I was 3 years old.\n",
    "I have two siblings, a younger brother and a younger sister.\n",
    "\n",
    "[![image.png](https://i.postimg.cc/HLPPsTtd/image.png)](https://postimg.cc/R3KTg58D)\n",
    "\n",
    "Since elementary school, I have been learning computer science. I initially began with Python 2.7, then started learning Python 3.10. During middle school I moved onto C++.\n",
    "With C++, I was able to participate in coding competitions, such as CALICO, USACO, and ACSL.\n",
    "\n",
    "[![image.png](https://i.postimg.cc/qMdD7b2h/image.png)](https://postimg.cc/9zJY8B8C)\n",
    "\n",
    "After working on C++ for a while, I took a college course on C. From there, I was able to learn the fundamentals of computer science, such as how memory allocation works, the compiler, and the linker.\n",
    "\n",
    "[![image.png](https://i.postimg.cc/tJbd9c89/image.png)](https://postimg.cc/wyWRVw6r)\n",
    "\n",
    "Last summer, I went back to community college to take a course on Java.\n",
    "\n",
    "[![image.png](https://i.postimg.cc/PfbzSt8J/image.png)](https://postimg.cc/yWdZdCjC)\n",
    "\n"
   ]
  }
 ],
 "metadata": {
  "language_info": {
   "name": "python"
  }
 },
 "nbformat": 4,
 "nbformat_minor": 2
}
