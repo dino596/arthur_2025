{
 "cells": [
  {
   "cell_type": "markdown",
   "metadata": {},
   "source": [
    "---\n",
    "layout: post\n",
    "title: About Me\n",
    "description:  About Page\n",
    "type: issues \n",
    "permalink: /about\n",
    "comments: true\n",
    "---"
   ]
  },
  {
   "cell_type": "markdown",
   "metadata": {},
   "source": [
    "I am a senior at Del Norte High School.\n",
    "\n",
    "Born in Taiwan in 2007, I immigrated to the United States when I was 3 years old.\n",
    "I have two siblings, a younger brother and a younger sister.\n",
    "\n",
    "Since elementary school, I have been learning computer science. I initially began with Python 2.7, then started learning Python 3.10. During middle school I moved onto C++.\n",
    "With C++, I was able to participate in coding competitions, such as CALICO, USACO, and ACSL.\n",
    "\n"
   ]
  }
 ],
 "metadata": {
  "language_info": {
   "name": "python"
  }
 },
 "nbformat": 4,
 "nbformat_minor": 2
}
