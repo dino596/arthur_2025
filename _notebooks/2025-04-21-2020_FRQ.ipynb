{
 "cells": [
  {
   "cell_type": "markdown",
   "id": "d6c3a9f8",
   "metadata": {},
   "source": [
    "---\n",
    "layout: post\n",
    "title: 2020 FRQ\n",
    "type: issues \n",
    "comments: true\n",
    "permalink: /2020/frq\n",
    "---"
   ]
  },
  {
   "cell_type": "code",
   "execution_count": null,
   "id": "65355a10",
   "metadata": {
    "vscode": {
     "languageId": "java"
    }
   },
   "outputs": [],
   "source": [
    "public class Hailstone {\n",
    "    public static int hailstoneLength(int n) {\n",
    "        int ct = 1;\n",
    "\n",
    "        while (n != 1) {\n",
    "            if (n % 2 == 0) {\n",
    "                n /= 2;\n",
    "            } else {\n",
    "                n = 3 * n + 1;\n",
    "            }\n",
    "            ct++;\n",
    "        }\n",
    "        return ct;\n",
    "    }\n",
    "\n",
    "    public static boolean isLongSeq(int n) {\n",
    "        return hailstoneLength(n) > n;\n",
    "    }\n",
    "\n",
    "    public static double propLong(int n) {\n",
    "        int longSeqs = 0;\n",
    "\n",
    "        for (int i = 1; i <= n; i++) {\n",
    "            if (isLongSeq(i)) {\n",
    "                longSeqs++;\n",
    "            }\n",
    "        }\n",
    "\n",
    "        return (double)longSeqs / n;\n",
    "    }\n",
    "\n",
    "    public static void main(String[] args) {\n",
    "        System.out.println(hailstoneLength(5));\n",
    "        System.out.println(hailstoneLength(8));\n",
    "\n",
    "        System.out.println(isLongSeq(5));\n",
    "        System.out.println(isLongSeq(8));\n",
    "\n",
    "        System.out.println(propLong(10));\n",
    "    }\n",
    "}\n"
   ]
  },
  {
   "cell_type": "code",
   "execution_count": null,
   "id": "1254668b",
   "metadata": {
    "vscode": {
     "languageId": "java"
    }
   },
   "outputs": [],
   "source": [
    "import java.util.Random;\n",
    "\n",
    "public class GameSpinner {\n",
    "    int c = 0;\n",
    "    int n;\n",
    "    int currentSpin = 0;\n",
    "\n",
    "    Random rand = new Random();\n",
    "\n",
    "    public GameSpinner(int n) {\n",
    "        this.n = n;\n",
    "    }\n",
    "\n",
    "    public int currentRun() {\n",
    "        return c;\n",
    "    }\n",
    "\n",
    "    public int spin() {\n",
    "        int spin = rand.nextInt(n) + 1;\n",
    "        if (spin == currentSpin) {\n",
    "            c++;\n",
    "        } else {\n",
    "            c = 1;\n",
    "            currentSpin = spin;\n",
    "        }\n",
    "\n",
    "        return spin;\n",
    "    }\n",
    "\n",
    "    public static void main(String[] args) {\n",
    "        GameSpinner g = new GameSpinner(4);\n",
    "        for (int i = 0; i < 5; i++) {\n",
    "            System.out.println(g.currentRun());\n",
    "            System.out.println(g.spin());\n",
    "        }\n",
    "\n",
    "    }\n",
    "}\n"
   ]
  },
  {
   "cell_type": "code",
   "execution_count": null,
   "id": "e8057dd6",
   "metadata": {
    "vscode": {
     "languageId": "java"
    }
   },
   "outputs": [],
   "source": [
    "public class ProductReview {\n",
    "    private String name;\n",
    "    private String review;\n",
    "\n",
    "    public ProductReview(String pName, String pReview) {\n",
    "        name = pName;\n",
    "        review = pReview;\n",
    "    }\n",
    "\n",
    "    public String getName() {\n",
    "        return name;\n",
    "    }\n",
    "\n",
    "    public String getReview() {\n",
    "        return review;\n",
    "    }\n",
    "}\n"
   ]
  },
  {
   "cell_type": "code",
   "execution_count": null,
   "id": "903def55",
   "metadata": {
    "vscode": {
     "languageId": "java"
    }
   },
   "outputs": [],
   "source": [
    "import java.util.ArrayList;\n",
    "\n",
    "public class ReviewCollector {\n",
    "    private ArrayList<ProductReview> reviewList;\n",
    "    private ArrayList<String> productList;\n",
    "\n",
    "    public ReviewCollector() {\n",
    "        reviewList = new ArrayList<>();\n",
    "        productList = new ArrayList<>();\n",
    "    }\n",
    "\n",
    "    public void addReview(ProductReview prodReview) {\n",
    "        reviewList.add(prodReview);\n",
    "    }\n",
    "\n",
    "    public int getNumGoodReviews(String prodName) {\n",
    "        int c = 0;\n",
    "\n",
    "        for (ProductReview product : reviewList) {\n",
    "            if (product.getName().equals(prodName) && product.getReview().contains(\"best\")) {\n",
    "                c++;\n",
    "            }\n",
    "        }\n",
    "\n",
    "        return c;\n",
    "    }\n",
    "}\n"
   ]
  },
  {
   "cell_type": "code",
   "execution_count": null,
   "id": "11513105",
   "metadata": {
    "vscode": {
     "languageId": "java"
    }
   },
   "outputs": [],
   "source": [
    "public class Seat {\n",
    "    private boolean available;\n",
    "    private int tier;\n",
    "\n",
    "    public Seat(boolean isAvail, int tierNum) {\n",
    "        available = isAvail;\n",
    "        tier = tierNum;\n",
    "    }\n",
    "\n",
    "    public boolean isAvailable() {\n",
    "        return available;\n",
    "    }\n",
    "\n",
    "    public int getTier() {\n",
    "        return tier;\n",
    "    }\n",
    "\n",
    "    public void setAvailablity(boolean isAvail) {\n",
    "        available = isAvail;\n",
    "    }\n",
    "}\n"
   ]
  },
  {
   "cell_type": "code",
   "execution_count": null,
   "id": "2a205eb4",
   "metadata": {
    "vscode": {
     "languageId": "java"
    }
   },
   "outputs": [],
   "source": [
    "public class Theater {\n",
    "    private Seat[][] theaterSeats;\n",
    "    int row = 0;\n",
    "\n",
    "    public Theater(int seatsPerRow, int tier1Rows, int tier2Rows) {\n",
    "        theaterSeats = new Seat[tier1Rows + tier2Rows][seatsPerRow];\n",
    "\n",
    "        for (int i = 0; i < tier1Rows; i++) {\n",
    "            for (Seat seat : theaterSeats[row]) {\n",
    "                seat = new Seat(true, 1);\n",
    "            }\n",
    "            row++;\n",
    "        }\n",
    "\n",
    "        for (int i = 0; i < tier2Rows; i++) {\n",
    "            for (Seat seat : theaterSeats[row]) {\n",
    "                seat = new Seat(true, 2);\n",
    "            }\n",
    "            row++;\n",
    "        }\n",
    "    }\n",
    "\n",
    "    public boolean reassignSeat(int fromRow, int fromCol, int toRow, int toCol) {\n",
    "        if (!theaterSeats[fromRow][fromCol].isAvailable() || theaterSeats[toRow][toCol].isAvailable()) {\n",
    "            return false;\n",
    "        }\n",
    "\n",
    "        theaterSeats[fromRow][fromCol] = new Seat(true, theaterSeats[fromRow][fromCol].getTier());\n",
    "        theaterSeats[toRow][toCol] = new Seat(false, theaterSeats[toRow][toCol].getTier());\n",
    "        return true;\n",
    "    }\n",
    "}\n"
   ]
  }
 ],
 "metadata": {
  "language_info": {
   "name": "python"
  }
 },
 "nbformat": 4,
 "nbformat_minor": 5
}
