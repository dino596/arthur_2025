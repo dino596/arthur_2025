{
 "cells": [
  {
   "cell_type": "markdown",
   "metadata": {},
   "source": [
    "---\n",
    "layout: post\n",
    "title: 2015 MCQ\n",
    "type: issues \n",
    "comments: true\n",
    "permalink: /mcq\n",
    "---"
   ]
  },
  {
   "cell_type": "markdown",
   "metadata": {},
   "source": [
    "# 2015 College Board MCQ Corrections\n",
    "\n",
    "<br>\n",
    "I got a 35/39 on the MCQ, spending a total of 4 hrs, 16 min, and 37 sec. <br>\n",
    "\n",
    "### Q10. Student interface, Athlete and TennisPlayer Class\n",
    "Consider the following interface and class declarations.<br>\n",
    "[![image.png](https://i.postimg.cc/9fyP4z2N/image.png)](https://postimg.cc/McKfN6vy)<br>\n",
    "Assume that each class has a zero-parameter constructor. Which of the following is NOT a valid declaration?<br><br>\n",
    "\n",
    "I picked C `Athlete c = new TennisPlayer();`, but the correct answer is D `Student D = new Athlete();`. I thought that both TennisPlayer and Athlete implemented the interface Student, but Athlete is actually a separate class.<br><br>\n",
    "\n",
    "### Q18. Print statement with mathematical operators\n",
    "Consider the following code segments.<br>\n",
    "[![image.png](https://i.postimg.cc/B6zFZwns/image.png)](https://postimg.cc/cgQCXh35)<br>\n",
    "What is printed as a result of executing the following statement?<br><br>\n",
    "\n",
    "I picked E `405` instead of D `401`. I immediately thought that the `/ 10 * 10` would cancel out, and added `405 + 1`, which is incorrect. Instead, integer division forces `405 / 10 = 40`, which would then continue to become `40 * 10 + 1 = 400 + 1 = 401`.<br><br>\n",
    "\n",
    "### Q25. Incrementing count in nested loops\n",
    "Consider the following code segment.<br>\n",
    "[![image.png](https://i.postimg.cc/8z2NG2WN/image.png)](https://postimg.cc/G4xZJSq5)<br>\n",
    "What is printed as a result of executing the code segment?<br><br>\n",
    "\n",
    "For this question, I picked E `20` because I assumed that instead of running `count++` in the nested for loop, it would run `count += y`. Instead, the question is asking for how many times the nested for loop runs, which would be C `10`.\n",
    "\n",
    "### Q28. Q28 Sorting 1D int array statement count\n",
    "Directions: Select the choice that best fits each statement. The following question(s) refer to the following information.<br>\n",
    "[![image.png](https://i.postimg.cc/jSYHB55X/image.png)](https://postimg.cc/SJVYMmc2)<br>\n",
    "Consider the following sort method. This method correctly sorts the elements of array data into increasing order.<br>\n",
    "\n",
    "Assume that sort is called with the array {1, 2, 3, 4, 5, 6}. How many times will the expression indicated by /\\* Compare values \\*/ and the statement indicated by /\\* Assign to temp \\*/ execute?<br><br>\n",
    "\n",
    "I picked C `15 / 6` instead of B `15 / 5`, because I miscounted the amount of times the statement `Assign to temp` executes. The for loop is looping from `0`, inclusive to `data.length - 1`, exclusive, while I thought that the for loop looped from `0` to `data.length` exclusive.<br><br>\n",
    "\n",
    "# Reflection\n",
    "[![8-A3-E7-AF2-72-A9-4-D9-B-9-A42-BAC609-EE5-C63.png](https://i.postimg.cc/wxJZN1S5/8-A3-E7-AF2-72-A9-4-D9-B-9-A42-BAC609-EE5-C63.png)](https://postimg.cc/nMF3bhVM)\n"
   ]
  }
 ],
 "metadata": {
  "language_info": {
   "name": "python"
  }
 },
 "nbformat": 4,
 "nbformat_minor": 2
}
