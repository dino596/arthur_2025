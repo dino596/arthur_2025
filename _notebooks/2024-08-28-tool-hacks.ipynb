{
 "cells": [
  {
   "cell_type": "markdown",
   "metadata": {},
   "source": [
    "---\n",
    "layout: post\n",
    "title: Tool Hacks\n",
    "description: A review of the hacks I \n",
    "categories: [DevOps, Python]\n",
    "permalink: /jupyter/notebook/python\n",
    "menu: nav/tools_setup.html\n",
    "toc: true\n",
    "comments: true\n",
    "---"
   ]
  }
 ],
 "metadata": {
  "language_info": {
   "name": "python"
  }
 },
 "nbformat": 4,
 "nbformat_minor": 2
}
